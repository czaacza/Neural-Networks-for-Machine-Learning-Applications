{
  "cells": [
    {
      "cell_type": "markdown",
      "metadata": {
        "id": "view-in-github",
        "colab_type": "text"
      },
      "source": [
        "<a href=\"https://colab.research.google.com/github/czaacza/Neural-Networks-for-Machine-Learning-Applications/blob/master/case_0_learning_basics_Mateusz_Czarnecki.ipynb\" target=\"_parent\"><img src=\"https://colab.research.google.com/assets/colab-badge.svg\" alt=\"Open In Colab\"/></a>"
      ]
    },
    {
      "cell_type": "markdown",
      "id": "e0fa1463",
      "metadata": {
        "papermill": {
          "duration": 0.007111,
          "end_time": "2023-01-02T13:32:00.124262",
          "exception": false,
          "start_time": "2023-01-02T13:32:00.117151",
          "status": "completed"
        },
        "tags": [],
        "id": "e0fa1463"
      },
      "source": [
        "# Case 0. Learning basics\n",
        "**Neural Networks for Machine Learning Applications**<br>\n",
        "09.01.2023<br>\n",
        "Mateusz Czarnecki<br>\n",
        "[Information Technology, Bachelor's Degree](https://www.metropolia.fi/en/academics/bachelors-degrees/information-technology)<br>\n",
        "[Metropolia University of Applied Sciences](https://www.metropolia.fi/en)\n",
        "\n",
        "- **v3**: Simplified version based on discussion with JK.\n",
        "- **v4**: Added conversion of labels [to_categorical](https://www.tensorflow.org/api_docs/python/tf/keras/utils/to_categorical) and changed the loss function to [categorical crossentropy](https://www.tensorflow.org/api_docs/python/tf/keras/metrics/categorical_crossentropy).\n",
        "- **v5**: Changes in instructions wordings."
      ]
    },
    {
      "cell_type": "code",
      "source": [],
      "metadata": {
        "id": "pWQvUE-6ZTQP"
      },
      "id": "pWQvUE-6ZTQP",
      "execution_count": null,
      "outputs": []
    },
    {
      "cell_type": "markdown",
      "id": "13803b03",
      "metadata": {
        "papermill": {
          "duration": 0.006806,
          "end_time": "2023-01-02T13:32:00.137773",
          "exception": false,
          "start_time": "2023-01-02T13:32:00.130967",
          "status": "completed"
        },
        "tags": [],
        "id": "13803b03"
      },
      "source": [
        "## 1. Introduction\n",
        "\n",
        "The main objectives of the following notebook is to get familiar with the basics of neural networks, using a specific example - **classifying black and white handwritten digits**. We are going to create as simple neural model as possible and train it in a small number of epochs, just to get the basics of how the neural network training looks in code and what library is useful to perform a task like this.\n",
        "\n"
      ]
    },
    {
      "cell_type": "markdown",
      "id": "edec8fdd",
      "metadata": {
        "papermill": {
          "duration": 0.005269,
          "end_time": "2023-01-02T13:32:00.149245",
          "exception": false,
          "start_time": "2023-01-02T13:32:00.143976",
          "status": "completed"
        },
        "tags": [],
        "id": "edec8fdd"
      },
      "source": [
        "## 2. Setup\n",
        "\n",
        "To take on the challenge of creating and training our machine learning model, we are going to use a Python machine learning library called **Tensorflow**\n",
        "\n",
        "Tensorflow not only includes all the functions we need when creating a simple neural network, but also provides us the hand-written digits images."
      ]
    },
    {
      "cell_type": "code",
      "execution_count": null,
      "id": "faa11d6a",
      "metadata": {
        "execution": {
          "iopub.execute_input": "2023-01-02T13:32:00.163235Z",
          "iopub.status.busy": "2023-01-02T13:32:00.162563Z",
          "iopub.status.idle": "2023-01-02T13:32:07.133827Z",
          "shell.execute_reply": "2023-01-02T13:32:07.131277Z"
        },
        "papermill": {
          "duration": 6.983144,
          "end_time": "2023-01-02T13:32:07.138097",
          "exception": false,
          "start_time": "2023-01-02T13:32:00.154953",
          "status": "completed"
        },
        "tags": [],
        "colab": {
          "base_uri": "https://localhost:8080/"
        },
        "id": "faa11d6a",
        "outputId": "25340f95-f746-4199-8e49-6df93af534ff"
      },
      "outputs": [
        {
          "output_type": "stream",
          "name": "stdout",
          "text": [
            "tensorflow: 2.9.2\n"
          ]
        }
      ],
      "source": [
        "import tensorflow as tf\n",
        "print(f'tensorflow: {tf.__version__}')"
      ]
    },
    {
      "cell_type": "markdown",
      "id": "befee899",
      "metadata": {
        "papermill": {
          "duration": 0.005507,
          "end_time": "2023-01-02T13:32:07.149787",
          "exception": false,
          "start_time": "2023-01-02T13:32:07.144280",
          "status": "completed"
        },
        "tags": [],
        "id": "befee899"
      },
      "source": [
        "## 3. Dataset"
      ]
    },
    {
      "cell_type": "markdown",
      "id": "196943a1",
      "metadata": {
        "papermill": {
          "duration": 0.0058,
          "end_time": "2023-01-02T13:32:07.161510",
          "exception": false,
          "start_time": "2023-01-02T13:32:07.155710",
          "status": "completed"
        },
        "tags": [],
        "id": "196943a1"
      },
      "source": [
        "The dataset we're using is the **MNIST** digits classification dataset. The data consists of 60 000 training and 10 000 testing elements representing 28x28 pixel images, each containing a handwritten digit (0-9). \n",
        "\n",
        "The elements are in fact **not images**, but arrays of integers between 0 and 255, where every number represents an amount of white color in a pixel. (0 - a white pixel and 255 - a black pixel).\n",
        "\n",
        "We are collecting the dataset using load_data() function from tensorflow library. The data is being assigned to variables named **x_train**, **y_train**, **x_test** and **y_test**, where:\n",
        "\n",
        "- **x_train** - input images for training\n",
        "- **y_train** - output labels for training\n",
        "- **x_test** - input images for testing\n",
        "- **y_test** - output labels for training\n"
      ]
    },
    {
      "cell_type": "code",
      "execution_count": null,
      "id": "3328572b",
      "metadata": {
        "execution": {
          "iopub.execute_input": "2023-01-02T13:32:07.175856Z",
          "iopub.status.busy": "2023-01-02T13:32:07.174917Z",
          "iopub.status.idle": "2023-01-02T13:32:09.048194Z",
          "shell.execute_reply": "2023-01-02T13:32:09.046787Z"
        },
        "papermill": {
          "duration": 1.88471,
          "end_time": "2023-01-02T13:32:09.052001",
          "exception": false,
          "start_time": "2023-01-02T13:32:07.167291",
          "status": "completed"
        },
        "tags": [],
        "id": "3328572b",
        "colab": {
          "base_uri": "https://localhost:8080/"
        },
        "outputId": "573f4421-1239-4fde-8a99-a8fc61b4b762"
      },
      "outputs": [
        {
          "output_type": "stream",
          "name": "stdout",
          "text": [
            "Downloading data from https://storage.googleapis.com/tensorflow/tf-keras-datasets/mnist.npz\n",
            "11490434/11490434 [==============================] - 0s 0us/step\n"
          ]
        }
      ],
      "source": [
        "mnist = tf.keras.datasets.mnist\n",
        "\n",
        "(x_train, y_train), (x_test, y_test) = mnist.load_data()"
      ]
    },
    {
      "cell_type": "code",
      "execution_count": null,
      "id": "ab0faf75",
      "metadata": {
        "execution": {
          "iopub.execute_input": "2023-01-02T13:32:09.069295Z",
          "iopub.status.busy": "2023-01-02T13:32:09.068750Z",
          "iopub.status.idle": "2023-01-02T13:32:09.077632Z",
          "shell.execute_reply": "2023-01-02T13:32:09.075794Z"
        },
        "papermill": {
          "duration": 0.022781,
          "end_time": "2023-01-02T13:32:09.080918",
          "exception": false,
          "start_time": "2023-01-02T13:32:09.058137",
          "status": "completed"
        },
        "tags": [],
        "colab": {
          "base_uri": "https://localhost:8080/"
        },
        "id": "ab0faf75",
        "outputId": "1a3b3ed6-e1b3-4826-c2c8-b241ae4fb1f6"
      },
      "outputs": [
        {
          "output_type": "stream",
          "name": "stdout",
          "text": [
            "x_train: shape (60000, 28, 28) and ndim 3\n",
            "x_test:  shape (10000, 28, 28) and ndim 3\n",
            "y_train: shape (60000,) and ndim 1\n",
            "y_test:  shape (10000,) and ndim 1\n"
          ]
        }
      ],
      "source": [
        "print(f'x_train: shape {x_train.shape} and ndim {x_train.ndim}')\n",
        "print(f'x_test:  shape {x_test.shape} and ndim {x_test.ndim}')\n",
        "\n",
        "print(f'y_train: shape {y_train.shape} and ndim {y_train.ndim}')\n",
        "print(f'y_test:  shape {y_test.shape} and ndim {y_test.ndim}')"
      ]
    },
    {
      "cell_type": "markdown",
      "id": "bd14c510",
      "metadata": {
        "papermill": {
          "duration": 0.005694,
          "end_time": "2023-01-02T13:32:09.092742",
          "exception": false,
          "start_time": "2023-01-02T13:32:09.087048",
          "status": "completed"
        },
        "tags": [],
        "id": "bd14c510"
      },
      "source": [
        "## 4. Preprocessing"
      ]
    },
    {
      "cell_type": "markdown",
      "id": "99dfcaec",
      "metadata": {
        "papermill": {
          "duration": 0.006062,
          "end_time": "2023-01-02T13:32:09.104950",
          "exception": false,
          "start_time": "2023-01-02T13:32:09.098888",
          "status": "completed"
        },
        "tags": [],
        "id": "99dfcaec"
      },
      "source": [
        "To use our data with neural network, firstly, we need to preprocess it.\n",
        "\n",
        "To make our input data easier to work with, we are gonna scale it, by dividing its value by 255. This way, instead of numbers 0-255 (white-black) for each pixel, we're getting the numbers **from 0 to 1**. \n",
        "\n",
        "Our output labels also need modification. For now, they are treated as integer numbers from 0 to 9. Instead of it, we want them to be seen as **separate categories** of data without any mathematical connection between them. If we show our network the handwritten number 5, we don't want it to think of it as something that is closer to 6 than to 1. For this reason, we use a tensorflow function **to_categorical()** to categorize our data."
      ]
    },
    {
      "cell_type": "code",
      "execution_count": null,
      "id": "6a47b3d2",
      "metadata": {
        "execution": {
          "iopub.execute_input": "2023-01-02T13:32:09.119338Z",
          "iopub.status.busy": "2023-01-02T13:32:09.118817Z",
          "iopub.status.idle": "2023-01-02T13:32:09.414100Z",
          "shell.execute_reply": "2023-01-02T13:32:09.412412Z"
        },
        "papermill": {
          "duration": 0.306799,
          "end_time": "2023-01-02T13:32:09.417891",
          "exception": false,
          "start_time": "2023-01-02T13:32:09.111092",
          "status": "completed"
        },
        "tags": [],
        "id": "6a47b3d2"
      },
      "outputs": [],
      "source": [
        "x_train = x_train / 255.0 \n",
        "x_test = x_test / 255.0\n",
        "\n",
        "y_train = tf.keras.utils.to_categorical(y_train)\n",
        "y_test = tf.keras.utils.to_categorical(y_test)"
      ]
    },
    {
      "cell_type": "markdown",
      "id": "c662a878",
      "metadata": {
        "papermill": {
          "duration": 0.005791,
          "end_time": "2023-01-02T13:32:09.430010",
          "exception": false,
          "start_time": "2023-01-02T13:32:09.424219",
          "status": "completed"
        },
        "tags": [],
        "id": "c662a878"
      },
      "source": [
        "## 5. Modeling"
      ]
    },
    {
      "cell_type": "markdown",
      "id": "5c648ddc",
      "metadata": {
        "papermill": {
          "duration": 0.006047,
          "end_time": "2023-01-02T13:32:09.443778",
          "exception": false,
          "start_time": "2023-01-02T13:32:09.437731",
          "status": "completed"
        },
        "tags": [],
        "id": "5c648ddc"
      },
      "source": [
        "Using the **Sequential()** constructor, we are now going to build our neural network model. I tried to make it as simple as possible to get 0.97 accuracy, and that is why the following model consists of 45 hidden neurons. The activation function we are using in this model is **ReLU**. It's going to reduce the outputs coming from neuron to 0 if the value < 0."
      ]
    },
    {
      "cell_type": "code",
      "execution_count": null,
      "id": "9bb76cba",
      "metadata": {
        "execution": {
          "iopub.execute_input": "2023-01-02T13:32:09.459496Z",
          "iopub.status.busy": "2023-01-02T13:32:09.458919Z",
          "iopub.status.idle": "2023-01-02T13:32:09.623647Z",
          "shell.execute_reply": "2023-01-02T13:32:09.622312Z"
        },
        "papermill": {
          "duration": 0.176374,
          "end_time": "2023-01-02T13:32:09.627240",
          "exception": false,
          "start_time": "2023-01-02T13:32:09.450866",
          "status": "completed"
        },
        "tags": [],
        "id": "9bb76cba"
      },
      "outputs": [],
      "source": [
        "model = tf.keras.models.Sequential([\n",
        "  tf.keras.layers.Flatten(input_shape=(28, 28)),\n",
        "  tf.keras.layers.Dense(45, activation='relu'),\n",
        "  tf.keras.layers.Dense(10, activation='softmax')\n",
        "])"
      ]
    },
    {
      "cell_type": "code",
      "execution_count": null,
      "id": "14b85188",
      "metadata": {
        "execution": {
          "iopub.execute_input": "2023-01-02T13:32:09.643049Z",
          "iopub.status.busy": "2023-01-02T13:32:09.642490Z",
          "iopub.status.idle": "2023-01-02T13:32:09.937352Z",
          "shell.execute_reply": "2023-01-02T13:32:09.935832Z"
        },
        "papermill": {
          "duration": 0.307327,
          "end_time": "2023-01-02T13:32:09.941020",
          "exception": false,
          "start_time": "2023-01-02T13:32:09.633693",
          "status": "completed"
        },
        "tags": [],
        "id": "14b85188"
      },
      "outputs": [],
      "source": [
        "model.compile(optimizer = 'adam',\n",
        "              loss = 'categorical_crossentropy',\n",
        "              metrics = ['accuracy'])"
      ]
    },
    {
      "cell_type": "markdown",
      "id": "213769f8",
      "metadata": {
        "papermill": {
          "duration": 0.006495,
          "end_time": "2023-01-02T13:32:09.953690",
          "exception": false,
          "start_time": "2023-01-02T13:32:09.947195",
          "status": "completed"
        },
        "tags": [],
        "id": "213769f8"
      },
      "source": [
        "## 6. Training"
      ]
    },
    {
      "cell_type": "markdown",
      "id": "da084072",
      "metadata": {
        "papermill": {
          "duration": 0.005663,
          "end_time": "2023-01-02T13:32:09.965534",
          "exception": false,
          "start_time": "2023-01-02T13:32:09.959871",
          "status": "completed"
        },
        "tags": [],
        "id": "da084072"
      },
      "source": [
        "The training proccess is being done using a fit() function on our model. We're passing there the inputs and outputs of our training data. On top of that, we are passing the number of epochs, which defines how many iterations over our data we want. In this case, to reduce the complexity and get 0.97 accuracy for our model, I'm using 6 epochs.\n"
      ]
    },
    {
      "cell_type": "code",
      "execution_count": null,
      "id": "20fc668a",
      "metadata": {
        "execution": {
          "iopub.execute_input": "2023-01-02T13:32:09.980253Z",
          "iopub.status.busy": "2023-01-02T13:32:09.979742Z",
          "iopub.status.idle": "2023-01-02T13:32:52.155779Z",
          "shell.execute_reply": "2023-01-02T13:32:52.154375Z"
        },
        "papermill": {
          "duration": 42.187775,
          "end_time": "2023-01-02T13:32:52.159410",
          "exception": false,
          "start_time": "2023-01-02T13:32:09.971635",
          "status": "completed"
        },
        "tags": [],
        "colab": {
          "base_uri": "https://localhost:8080/"
        },
        "id": "20fc668a",
        "outputId": "0dd14fc6-d5a5-45ee-d79b-9a0b4dfce10e"
      },
      "outputs": [
        {
          "output_type": "stream",
          "name": "stdout",
          "text": [
            "Epoch 1/6\n",
            "1875/1875 [==============================] - 4s 2ms/step - loss: 0.3346 - accuracy: 0.9054\n",
            "Epoch 2/6\n",
            "1875/1875 [==============================] - 4s 2ms/step - loss: 0.1701 - accuracy: 0.9505\n",
            "Epoch 3/6\n",
            "1875/1875 [==============================] - 4s 2ms/step - loss: 0.1280 - accuracy: 0.9628\n",
            "Epoch 4/6\n",
            "1875/1875 [==============================] - 4s 2ms/step - loss: 0.1046 - accuracy: 0.9691\n",
            "Epoch 5/6\n",
            "1875/1875 [==============================] - 4s 2ms/step - loss: 0.0884 - accuracy: 0.9737\n",
            "Epoch 6/6\n",
            "1875/1875 [==============================] - 4s 2ms/step - loss: 0.0773 - accuracy: 0.9765\n"
          ]
        },
        {
          "output_type": "execute_result",
          "data": {
            "text/plain": [
              "<keras.callbacks.History at 0x7f6fb45876d0>"
            ]
          },
          "metadata": {},
          "execution_count": 57
        }
      ],
      "source": [
        "model.fit(x_train, y_train, epochs = 6)"
      ]
    },
    {
      "cell_type": "markdown",
      "id": "7f63ccbc",
      "metadata": {
        "papermill": {
          "duration": 0.043466,
          "end_time": "2023-01-02T13:32:52.247833",
          "exception": false,
          "start_time": "2023-01-02T13:32:52.204367",
          "status": "completed"
        },
        "tags": [],
        "id": "7f63ccbc"
      },
      "source": [
        "## 7. Performance and evaluation"
      ]
    },
    {
      "cell_type": "markdown",
      "id": "e4abd349",
      "metadata": {
        "papermill": {
          "duration": 0.04463,
          "end_time": "2023-01-02T13:32:52.337043",
          "exception": false,
          "start_time": "2023-01-02T13:32:52.292413",
          "status": "completed"
        },
        "tags": [],
        "id": "e4abd349"
      },
      "source": [
        "After training our data, we're going to check its performance on the test data. As we can see, it's accuracy on the test data reaches 0.97."
      ]
    },
    {
      "cell_type": "code",
      "execution_count": null,
      "id": "6acb0119",
      "metadata": {
        "execution": {
          "iopub.execute_input": "2023-01-02T13:32:52.429911Z",
          "iopub.status.busy": "2023-01-02T13:32:52.429420Z",
          "iopub.status.idle": "2023-01-02T13:32:53.215567Z",
          "shell.execute_reply": "2023-01-02T13:32:53.214103Z"
        },
        "papermill": {
          "duration": 0.835956,
          "end_time": "2023-01-02T13:32:53.218556",
          "exception": false,
          "start_time": "2023-01-02T13:32:52.382600",
          "status": "completed"
        },
        "tags": [],
        "colab": {
          "base_uri": "https://localhost:8080/"
        },
        "id": "6acb0119",
        "outputId": "faa6210a-062b-4fdb-fe52-d48affb3d710"
      },
      "outputs": [
        {
          "output_type": "stream",
          "name": "stdout",
          "text": [
            "313/313 - 1s - loss: 0.1028 - accuracy: 0.9708 - 522ms/epoch - 2ms/step\n"
          ]
        },
        {
          "output_type": "execute_result",
          "data": {
            "text/plain": [
              "[0.10282813757658005, 0.97079998254776]"
            ]
          },
          "metadata": {},
          "execution_count": 58
        }
      ],
      "source": [
        "model.evaluate(x_test,  y_test, verbose=2)"
      ]
    },
    {
      "cell_type": "markdown",
      "id": "74a87730",
      "metadata": {
        "papermill": {
          "duration": 0.047202,
          "end_time": "2023-01-02T13:32:53.309310",
          "exception": false,
          "start_time": "2023-01-02T13:32:53.262108",
          "status": "completed"
        },
        "tags": [],
        "id": "74a87730"
      },
      "source": [
        "## 8. Discussion and conclusions"
      ]
    },
    {
      "cell_type": "markdown",
      "id": "3f291d77",
      "metadata": {
        "papermill": {
          "duration": 0.046072,
          "end_time": "2023-01-02T13:32:53.404349",
          "exception": false,
          "start_time": "2023-01-02T13:32:53.358277",
          "status": "completed"
        },
        "tags": [],
        "id": "3f291d77"
      },
      "source": [
        "The settings I tested were a number of dense units, which is now set to 45, and the number of epochs, which is set to 6. The final achieved performance for the test data was 0.9708 accuracy and 0.1028 of loss function indicator.\n",
        "\n",
        "To improve the model in the future, we could look into the learning algorithm and consider implementing a batch normalization. The other way to imporve our model's performance is to increase its depth by adding more convolutional and pooling layers.\n",
        "\n",
        "Creating this model was my first experience with neural networks, and therefore I have many observations about the following topic. I learned how to create a simple neural network and how how the neural networks' layers are built of multiple neuron models. I want to explore deep learning in more detail and create more advanced models in the future."
      ]
    },
    {
      "cell_type": "markdown",
      "id": "7ae26fff",
      "metadata": {
        "papermill": {
          "duration": 0.045656,
          "end_time": "2023-01-02T13:32:53.498148",
          "exception": false,
          "start_time": "2023-01-02T13:32:53.452492",
          "status": "completed"
        },
        "tags": [],
        "id": "7ae26fff"
      },
      "source": [
        "To learn more, see [Tensorflow tutorials](https://www.tensorflow.org/tutorials)."
      ]
    },
    {
      "cell_type": "code",
      "source": [],
      "metadata": {
        "id": "oEcGU6_pILw5"
      },
      "id": "oEcGU6_pILw5",
      "execution_count": null,
      "outputs": []
    }
  ],
  "metadata": {
    "kernelspec": {
      "display_name": "Python 3",
      "language": "python",
      "name": "python3"
    },
    "language_info": {
      "codemirror_mode": {
        "name": "ipython",
        "version": 3
      },
      "file_extension": ".py",
      "mimetype": "text/x-python",
      "name": "python",
      "nbconvert_exporter": "python",
      "pygments_lexer": "ipython3",
      "version": "3.7.12"
    },
    "papermill": {
      "default_parameters": {},
      "duration": 68.433454,
      "end_time": "2023-01-02T13:32:56.774790",
      "environment_variables": {},
      "exception": null,
      "input_path": "__notebook__.ipynb",
      "output_path": "__notebook__.ipynb",
      "parameters": {},
      "start_time": "2023-01-02T13:31:48.341336",
      "version": "2.3.4"
    },
    "colab": {
      "provenance": [],
      "include_colab_link": true
    }
  },
  "nbformat": 4,
  "nbformat_minor": 5
}